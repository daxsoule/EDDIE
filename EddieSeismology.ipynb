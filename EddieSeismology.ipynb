{
 "cells": [
  {
   "cell_type": "markdown",
   "metadata": {},
   "source": [
    "# __Project EDDIE__\n",
    "### &emsp;&emsp; https://serc.carleton.edu/eddie/enviro_data/index.html\n",
    "### &emsp;&emsp; https://github.com/daxsoule/EDDIE\n",
    "\n",
    "## What is a Jupyter Notebook?\n",
    "### &emsp;&emsp; https://jupyter.org"
   ]
  },
  {
   "cell_type": "code",
   "execution_count": null,
   "metadata": {},
   "outputs": [],
   "source": [
    "from IPython.display import Image\n",
    "Image(url = \"https://jupyter.org/assets/main-logo.svg\", width=400)"
   ]
  },
  {
   "cell_type": "markdown",
   "metadata": {},
   "source": [
    "## __100% Open Source built on Python__\n",
    "### &emsp;&emsp; -Supports over 40 programing languages   \n",
    "## Web based Application\n",
    "### &emsp;&emsp; -Live Code\n",
    "### &emsp;&emsp; -Equations \n",
    "### &emsp;&emsp; -Visualization \n",
    "### &emsp;&emsp; -Rich text \n",
    "## Developed on GitHub\n",
    "## Uses include\n",
    "### &emsp;&emsp; -Data cleaning and transformation\n",
    "### &emsp;&emsp; -Numeric Simulation \n",
    "### &emsp;&emsp; -Statistical Modeling\n",
    "### &emsp;&emsp; -Data Visualization\n",
    "### &emsp;&emsp; -Machine Learning "
   ]
  },
  {
   "cell_type": "markdown",
   "metadata": {},
   "source": [
    "# Jupyter is just one part of a entire data science ecosystem\n",
    "![title](images/Crone_CUNY_Queens.034.jpeg)"
   ]
  },
  {
   "cell_type": "markdown",
   "metadata": {},
   "source": [
    "## Data Science Resources to explore\n",
    "###"
   ]
  },
  {
   "cell_type": "markdown",
   "metadata": {},
   "source": [
    "# Build our ecosystem "
   ]
  },
  {
   "cell_type": "code",
   "execution_count": null,
   "metadata": {},
   "outputs": [],
   "source": [
    "import matplotlib.pyplot as plt\n",
    "import matplotlib\n",
    "import numpy as np\n",
    "import copy\n",
    "import pickle\n",
    "from datetime import datetime\n",
    "from obspy import UTCDateTime\n",
    "import sys"
   ]
  },
  {
   "cell_type": "markdown",
   "metadata": {},
   "source": [
    "### Metadata\n",
    "#### Connect to IRIS"
   ]
  },
  {
   "cell_type": "code",
   "execution_count": null,
   "metadata": {},
   "outputs": [],
   "source": [
    "from obspy.clients.fdsn import Client\n",
    "\n",
    "client_name='IRIS'\n",
    "client_name='http://service.iris.edu'\n",
    "\n",
    "client=Client(client_name)\n",
    "\n",
    "print(client)"
   ]
  },
  {
   "cell_type": "code",
   "execution_count": null,
   "metadata": {},
   "outputs": [],
   "source": [
    "# List Of Pre-Registered webservices\n",
    "from obspy.clients.fdsn.header import URL_MAPPINGS\n",
    "# for key in sorted(URL_MAPPINGS.keys()):\n",
    "#     print(\"{0:<7} {1}\".format(key,  URL_MAPPINGS[key]))"
   ]
  },
  {
   "cell_type": "markdown",
   "metadata": {},
   "source": [
    "### Tell IRIS the \"where\" and \"when\" it needs to find the data we are interested in."
   ]
  },
  {
   "cell_type": "code",
   "execution_count": null,
   "metadata": {},
   "outputs": [],
   "source": [
    "### Parameters\n",
    "net_code='II'\n",
    "# net_code='NV,OO'\n",
    "\n",
    "starttime = UTCDateTime(\"1999-09-30\")\n",
    "endtime = UTCDateTime(\"1999-10-01\")\n",
    "\n",
    "### Read network data\n",
    "\n",
    "inventory = client.get_stations(network=net_code, station=\"NNA\",\n",
    "                                starttime=starttime,\n",
    "                                endtime=endtime)\n",
    "\n",
    "print(inventory)"
   ]
  },
  {
   "cell_type": "markdown",
   "metadata": {},
   "source": [
    "### Ask for all the \"Z\" channels "
   ]
  },
  {
   "cell_type": "code",
   "execution_count": null,
   "metadata": {},
   "outputs": [],
   "source": [
    "inventory_select = inventory.select(channel=\"*Z\", station=\"NNA\")\n",
    "print(inventory_select)"
   ]
  },
  {
   "cell_type": "markdown",
   "metadata": {},
   "source": [
    "### Load some waveforms "
   ]
  },
  {
   "cell_type": "code",
   "execution_count": null,
   "metadata": {},
   "outputs": [],
   "source": [
    "starttime = UTCDateTime(\"1999-09-30T16:35:00\")\n",
    "duration = 1800\n",
    "\n",
    "st = client.get_waveforms(network='II',station='NNA',location=\"*\",channel='B*Z',\n",
    "                                starttime=starttime,\n",
    "                                endtime=starttime+duration)\n",
    "\n",
    "print(type(st))\n",
    "print(st)\n",
    "print(st.print_gaps())"
   ]
  },
  {
   "cell_type": "code",
   "execution_count": null,
   "metadata": {},
   "outputs": [],
   "source": [
    "trace=st[0]\n",
    "print(type(trace))\n",
    "print(trace.stats)\n",
    "print(trace.times())\n",
    "print(trace.data)"
   ]
  },
  {
   "cell_type": "markdown",
   "metadata": {},
   "source": [
    "## Plotting seismograms "
   ]
  },
  {
   "cell_type": "code",
   "execution_count": null,
   "metadata": {},
   "outputs": [],
   "source": [
    "st.plot()"
   ]
  },
  {
   "cell_type": "markdown",
   "metadata": {},
   "source": [
    "# Let's stop for a second and imagine the possibilites for what we can do with this next cell!"
   ]
  },
  {
   "cell_type": "code",
   "execution_count": null,
   "metadata": {},
   "outputs": [],
   "source": [
    "starttime = UTCDateTime(\"1999-09-30T16:35:00\")\n",
    "duration = 1800\n",
    "\n",
    "st = client.get_waveforms(network='II',station='NNA',location=\"*\",channel='B*Z',\n",
    "                                starttime=starttime,\n",
    "                                endtime=starttime+duration)\n",
    "\n",
    "st.merge()\n",
    "trace=st[0]\n",
    "\n",
    "trace_filter=copy.copy(trace)\n",
    "trace_filter.filter('bandpass', freqmin=1.0, freqmax=8.0,corners=3, zerophase=True)\n",
    "trace_filter.plot()\n",
    "\n",
    "trace_filter=copy.copy(trace)\n",
    "trace_filter.filter('highpass', freq=8.0, corners=2, zerophase=True)\n",
    "trace_filter.plot()\n",
    "\n",
    "trace_filter=copy.copy(trace)\n",
    "trace_filter.filter('lowpass', freq=1.0, corners=2, zerophase=True)\n",
    "trace_filter.plot()"
   ]
  },
  {
   "cell_type": "markdown",
   "metadata": {},
   "source": [
    "# How do we bring this functionality into the class room? \n",
    "## One way.... \n",
    "![title](images/Crone_CUNY_Queens.037.jpeg)\n",
    "![title](images/Crone_CUNY_Queens.038.jpeg)\n",
    "# Pangeo"
   ]
  },
  {
   "cell_type": "markdown",
   "metadata": {},
   "source": [
    "![title](images/Crone_CUNY_Queens.038.jpeg)"
   ]
  },
  {
   "cell_type": "markdown",
   "metadata": {},
   "source": [
    "# Pangeo Resources\n",
    "### https://www.earthcube.org/group/pangeo-open-source-big-data-climate-science-platform\n",
    "### https://github.com/pangeo-data\n",
    "### https://pydata.org/\n",
    "### http://pangeo-data.org/deployments.html\n",
    "# Microsoft Azure\n",
    "### https://azure.microsoft.com/en-us/\n",
    "### https://www.microsoft.com/en-us/ai/ai-for-earth?activetab=pivot1%3aprimaryr6"
   ]
  },
  {
   "cell_type": "markdown",
   "metadata": {},
   "source": [
    "## Another way... \n",
    "![title](images/Binder.png)\n",
    "# Binder"
   ]
  },
  {
   "cell_type": "markdown",
   "metadata": {},
   "source": [
    "# Yet another way\n",
    "![title](images/Colaboratory.png)\n",
    "# Google Colaboratory\n",
    "### https://colab.research.google.com/notebooks/welcome.ipynb"
   ]
  },
  {
   "cell_type": "markdown",
   "metadata": {},
   "source": [
    "# References\n",
    "https://github.com/ChrisBail\n"
   ]
  }
 ],
 "metadata": {
  "kernelspec": {
   "display_name": "Python 3",
   "language": "python",
   "name": "python3"
  },
  "language_info": {
   "codemirror_mode": {
    "name": "ipython",
    "version": 3
   },
   "file_extension": ".py",
   "mimetype": "text/x-python",
   "name": "python",
   "nbconvert_exporter": "python",
   "pygments_lexer": "ipython3",
   "version": "3.6.6"
  }
 },
 "nbformat": 4,
 "nbformat_minor": 2
}
