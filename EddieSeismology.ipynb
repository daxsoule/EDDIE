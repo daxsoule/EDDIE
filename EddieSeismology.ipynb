{
 "cells": [
  {
   "cell_type": "markdown",
   "metadata": {},
   "source": [
    "# __Project EDDIE__\n",
    "## &emsp; -What is a Jupyter Notebook?\n",
    "### &emsp;&emsp; -Objective = Experience first hand the dynamic learning environment available using the Jypyter format"
   ]
  },
  {
   "cell_type": "code",
   "execution_count": null,
   "metadata": {},
   "outputs": [],
   "source": [
    "from IPython.display import Image\n",
    "Image(url = \"https://jupyter.org/assets/main-logo.svg\", width=400)"
   ]
  },
  {
   "cell_type": "markdown",
   "metadata": {},
   "source": [
    "# Jupyter is just one part of a entire data science ecosystem\n",
    "![title](images/Crone_CUNY_Queens.034.jpeg)"
   ]
  },
  {
   "cell_type": "markdown",
   "metadata": {},
   "source": [
    "# __100% Open Source Codeing Ecosystem built on Python__\n",
    "### &emsp;&emsp; -Supports over 40 programing languages   \n",
    "## Web based Application developed on GitHub\n",
    "### &emsp;&emsp; -Live Code\n",
    "### &emsp;&emsp; -Equations \n",
    "### &emsp;&emsp; -Visualization \n",
    "### &emsp;&emsp; -Rich text "
   ]
  },
  {
   "cell_type": "code",
   "execution_count": null,
   "metadata": {},
   "outputs": [],
   "source": [
    "# Try it out! This is an executable code box... write some code and type \"shift; enter\"\n",
    "x = 1+1\n",
    "print(x)"
   ]
  },
  {
   "cell_type": "markdown",
   "metadata": {},
   "source": [
    "# Let's execute a few cells that will demonstrate the power of this platform in a classroom environment\n",
    "## &emsp; -Step 1 = Build our Ecosystem\n",
    "### &emsp;&emsp; -In this example we want to talk about an earthquake using data from IRIS. To do this we need to build an ecosystem by importing a few programs"
   ]
  },
  {
   "cell_type": "code",
   "execution_count": null,
   "metadata": {},
   "outputs": [],
   "source": [
    "import matplotlib.pyplot as plt\n",
    "import matplotlib\n",
    "import numpy as np\n",
    "import copy\n",
    "import pickle\n",
    "from datetime import datetime\n",
    "from obspy import UTCDateTime\n",
    "import sys"
   ]
  },
  {
   "cell_type": "markdown",
   "metadata": {},
   "source": [
    "## &emsp; -Step 2 = Identfy IRIS as the client and give obspy a web address to query. "
   ]
  },
  {
   "cell_type": "code",
   "execution_count": null,
   "metadata": {},
   "outputs": [],
   "source": [
    "from obspy.clients.fdsn import Client\n",
    "\n",
    "client_name='IRIS'\n",
    "client_name='http://service.iris.edu'\n",
    "\n",
    "client=Client(client_name)\n",
    "\n",
    "print(client)\n",
    "\n",
    "# List Of Pre-Registered webservices\n",
    "\n",
    "from obspy.clients.fdsn.header import URL_MAPPINGS\n",
    "\n",
    "# for key in sorted(URL_MAPPINGS.keys()):\n",
    "#     print(\"{0:<7} {1}\".format(key,  URL_MAPPINGS[key]))"
   ]
  },
  {
   "cell_type": "markdown",
   "metadata": {},
   "source": [
    "## &emsp; -Step 3 = Tell IRIS the \"where\" and \"when\" it needs to find the data we are interested in.\n",
    "### &emsp;&emsp; - In this example we are going to look at an earthquake from 1999 as seen at the seismic station in Nana Peru"
   ]
  },
  {
   "cell_type": "code",
   "execution_count": null,
   "metadata": {},
   "outputs": [],
   "source": [
    "### Parameters\n",
    "net_code='II'\n",
    "# net_code='NV,OO'\n",
    "\n",
    "starttime = UTCDateTime(\"1999-09-30\")\n",
    "endtime = UTCDateTime(\"1999-10-01\")\n",
    "\n",
    "### Read network data\n",
    "\n",
    "inventory = client.get_stations(network=net_code, station=\"NNA\",\n",
    "                                starttime=starttime,\n",
    "                                endtime=endtime)\n",
    "\n",
    "print(inventory)"
   ]
  },
  {
   "cell_type": "markdown",
   "metadata": {},
   "source": [
    "## &emsp; -Step 4 =Ask for all the \"Z\" channels "
   ]
  },
  {
   "cell_type": "code",
   "execution_count": null,
   "metadata": {},
   "outputs": [],
   "source": [
    "inventory_select = inventory.select(channel=\"*Z\", station=\"NNA\")\n",
    "print(inventory_select)"
   ]
  },
  {
   "cell_type": "markdown",
   "metadata": {},
   "source": [
    "## &emsp; -Step 5 = Load some waveforms "
   ]
  },
  {
   "cell_type": "code",
   "execution_count": null,
   "metadata": {},
   "outputs": [],
   "source": [
    "starttime = UTCDateTime(\"1999-09-30T16:35:00\")\n",
    "duration = 1800\n",
    "\n",
    "st = client.get_waveforms(network='II',station='NNA',location=\"*\",channel='B*Z',\n",
    "                                starttime=starttime,\n",
    "                                endtime=starttime+duration)\n",
    "\n",
    "print(type(st))\n",
    "print(st)\n",
    "print(st.print_gaps())"
   ]
  },
  {
   "cell_type": "markdown",
   "metadata": {},
   "source": [
    "## &emsp; -Step 6 = Plot a seismograms "
   ]
  },
  {
   "cell_type": "code",
   "execution_count": null,
   "metadata": {},
   "outputs": [],
   "source": [
    "st.plot()"
   ]
  },
  {
   "cell_type": "markdown",
   "metadata": {},
   "source": [
    "# Let's stop for a second and imagine the possibilites for what we can do with this next cell!\n",
    "# This could be a widget where we have sliders that control the filter parameters..... \n",
    "use a widget connect to HV plot connected to a bandpass."
   ]
  },
  {
   "cell_type": "code",
   "execution_count": null,
   "metadata": {},
   "outputs": [],
   "source": [
    "starttime = UTCDateTime(\"1999-09-30T16:35:00\")\n",
    "duration = 1800\n",
    "\n",
    "st = client.get_waveforms(network='II',station='NNA',location=\"*\",channel='B*Z',\n",
    "                                starttime=starttime,\n",
    "                                endtime=starttime+duration)\n",
    "\n",
    "st.merge()\n",
    "trace=st[0]\n",
    "\n",
    "trace_filter=copy.copy(trace)\n",
    "trace_filter.filter('bandpass', freqmin=1.0, freqmax=8.0,corners=3, zerophase=True)\n",
    "trace_filter.plot()\n",
    "\n",
    "trace_filter=copy.copy(trace)\n",
    "trace_filter.filter('highpass', freq=8.0, corners=2, zerophase=True)\n",
    "trace_filter.plot()\n",
    "\n",
    "trace_filter=copy.copy(trace)\n",
    "trace_filter.filter('lowpass', freq=1.0, corners=2, zerophase=True)\n",
    "trace_filter.plot()"
   ]
  },
  {
   "cell_type": "markdown",
   "metadata": {},
   "source": [
    "# How do we bring this functionality into the classroom? \n",
    "## Pangeo\n",
    "![title](images/Crone_CUNY_Queens.037.jpeg)"
   ]
  },
  {
   "cell_type": "markdown",
   "metadata": {},
   "source": [
    "# Scalable between problems that require.... mb to pb\n",
    "![title](images/Binder.png)\n",
    "# Binder"
   ]
  },
  {
   "cell_type": "markdown",
   "metadata": {},
   "source": [
    "# Yet another way\n",
    "![title](images/Colaboratory.png)\n",
    "# Google Colaboratory\n",
    "### https://colab.research.google.com/notebooks/welcome.ipynb"
   ]
  },
  {
   "cell_type": "markdown",
   "metadata": {},
   "source": [
    "# References\n",
    "### &emsp;&emsp; -Original code used in this notebook: https://github.com/ChrisBail\n",
    "### &emsp;&emsp; -Project EDDIE home page: https://serc.carleton.edu/eddie/enviro_data/index.html\n",
    "### &emsp;&emsp; -Download this notebook! https://github.com/daxsoule/EDDIE\n",
    "\n",
    "## Data Science Resources to explore\n",
    "### &emsp;&emsp; -For mad help with Pandas https://chrisalbon.com\n",
    "### &emsp;&emsp; -For all sorts of great repos https://github.com/rabernat/research_computing.git¶\n",
    "### &emsp;&emsp; -Ecosystem tutorial binder https://mybinder.org/v2/gh/jhamman/xarray_tutorial/master\n",
    "### &emsp;&emsp; -What is a Jupyter Notebook? https://jupyter.org\n",
    "### &emsp;&emsp; -Zero to Jupyterhub: https://zero-to-jupyterhub.readthedocs.io/en/latest/\n",
    "\n",
    "# Pangeo Resources\n",
    "### &emsp;&emsp; - Ryan Abernathy (Lamont)and Matthew Rocklin (Anaconda) https://youtu.be/mDrjGxaXQT4 \n",
    "### &emsp;&emsp; - Tim Crone (Lamont) https://youtu.be/etf8M_uW39E\n",
    "### &emsp;&emsp; - https://github.com/pangeo-data/pangeo-binder.git\n",
    "### &emsp;&emsp; - https://www.earthcube.org/group/pangeo-open-source-big-data-climate-science-platform\n",
    "### &emsp;&emsp; - https://github.com/pangeo-data\n",
    "### &emsp;&emsp; - https://pydata.org/\n",
    "### &emsp;&emsp; - http://pangeo-data.org/deployments.html\n",
    "# Microsoft Azure\n",
    "### &emsp;&emsp; - https://azure.microsoft.com/en-us/\n",
    "### &emsp;&emsp; - https://www.microsoft.com/en-us/ai/ai-for-earth?activetab=pivot1%3aprimaryr6\n",
    "# Google Colaboratory\n",
    "### &emsp;&emsp; - https://colab.research.google.com/notebooks/welcome.ipynb"
   ]
  },
  {
   "cell_type": "code",
   "execution_count": null,
   "metadata": {},
   "outputs": [],
   "source": []
  }
 ],
 "metadata": {
  "kernelspec": {
   "display_name": "Python 3",
   "language": "python",
   "name": "python3"
  },
  "language_info": {
   "codemirror_mode": {
    "name": "ipython",
    "version": 3
   },
   "file_extension": ".py",
   "mimetype": "text/x-python",
   "name": "python",
   "nbconvert_exporter": "python",
   "pygments_lexer": "ipython3",
   "version": "3.6.6"
  }
 },
 "nbformat": 4,
 "nbformat_minor": 2
}
