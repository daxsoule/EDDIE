{
 "cells": [
  {
   "cell_type": "markdown",
   "metadata": {},
   "source": [
    "## EDDIE Seismology"
   ]
  },
  {
   "cell_type": "code",
   "execution_count": null,
   "metadata": {},
   "outputs": [],
   "source": [
    "import matplotlib.pyplot as plt\n",
    "import matplotlib\n",
    "import numpy as np\n",
    "import copy\n",
    "import pickle\n",
    "from datetime import datetime\n",
    "from obspy import UTCDateTime\n",
    "import sys"
   ]
  },
  {
   "cell_type": "markdown",
   "metadata": {},
   "source": [
    "## Metadata "
   ]
  },
  {
   "cell_type": "code",
   "execution_count": null,
   "metadata": {},
   "outputs": [],
   "source": [
    "from obspy.clients.fdsn import Client\n",
    "\n",
    "client_name='IRIS'\n",
    "client_name='http://service.iris.edu'\n",
    "\n",
    "client=Client(client_name)\n",
    "\n",
    "print(client)"
   ]
  },
  {
   "cell_type": "markdown",
   "metadata": {},
   "source": [
    "## List Of Pre-Registered webservices "
   ]
  },
  {
   "cell_type": "code",
   "execution_count": null,
   "metadata": {},
   "outputs": [],
   "source": [
    "from obspy.clients.fdsn.header import URL_MAPPINGS\n",
    "\n",
    "for key in sorted(URL_MAPPINGS.keys()):\n",
    "    print(\"{0:<7} {1}\".format(key,  URL_MAPPINGS[key]))"
   ]
  },
  {
   "cell_type": "code",
   "execution_count": null,
   "metadata": {},
   "outputs": [],
   "source": [
    "### Parameters\n",
    "\n",
    "net_code='II'\n",
    "# net_code='NV,OO'\n",
    "\n",
    "starttime = UTCDateTime(\"1999-09-30\")\n",
    "endtime = UTCDateTime(\"1999-10-01\")\n",
    "\n",
    "### Read network data\n",
    "\n",
    "inventory = client.get_stations(network=net_code, station=\"NNA\",\n",
    "                                starttime=starttime,\n",
    "                                endtime=endtime)\n",
    "\n",
    "print(inventory)\n",
    "\n",
    "### Plot inventory\n",
    "# plt.ioff()\n",
    "# inventory.plot(color_per_network=True) ### Plot global\n",
    "# inventory.plot(projection='local',color_per_network=True) ### Plot local\n",
    "# plt.show()"
   ]
  },
  {
   "cell_type": "code",
   "execution_count": null,
   "metadata": {},
   "outputs": [],
   "source": [
    "inventory_select = inventory.select(channel=\"*Z\", station=\"NNA\")\n",
    "print(inventory_select)"
   ]
  },
  {
   "cell_type": "markdown",
   "metadata": {},
   "source": [
    "# Waveforms "
   ]
  },
  {
   "cell_type": "code",
   "execution_count": null,
   "metadata": {},
   "outputs": [],
   "source": [
    "starttime = UTCDateTime(\"1999-09-30T16:35:00\")\n",
    "duration = 1800\n",
    "\n",
    "st = client.get_waveforms(network='II',station='NNA',location=\"*\",channel='B*Z',\n",
    "                                starttime=starttime,\n",
    "                                endtime=starttime+duration)\n",
    "\n",
    "print(type(st))\n",
    "print(st)\n",
    "print(st.print_gaps())"
   ]
  },
  {
   "cell_type": "code",
   "execution_count": null,
   "metadata": {},
   "outputs": [],
   "source": [
    "trace=st[0]\n",
    "print(type(trace))\n",
    "print(trace.stats)\n",
    "print(trace.times())\n",
    "print(trace.data)"
   ]
  },
  {
   "cell_type": "markdown",
   "metadata": {},
   "source": [
    "## Plotting seismograms "
   ]
  },
  {
   "cell_type": "code",
   "execution_count": null,
   "metadata": {},
   "outputs": [],
   "source": [
    "st.plot()"
   ]
  },
  {
   "cell_type": "markdown",
   "metadata": {},
   "source": [
    "# Plot and Filter Seismograms"
   ]
  },
  {
   "cell_type": "code",
   "execution_count": null,
   "metadata": {},
   "outputs": [],
   "source": [
    "starttime = UTCDateTime(\"1999-09-30T16:35:00\")\n",
    "duration = 1800\n",
    "\n",
    "st = client.get_waveforms(network='II',station='NNA',location=\"*\",channel='B*Z',\n",
    "                                starttime=starttime,\n",
    "                                endtime=starttime+duration)\n",
    "\n",
    "st.merge()\n",
    "trace=st[0]"
   ]
  },
  {
   "cell_type": "code",
   "execution_count": null,
   "metadata": {},
   "outputs": [],
   "source": [
    "trace.plot(outfile= '/home/jovyan/AGU_2018/Examples/Figures/unfiltered.png',bbox_inches='tight')\n",
    "#fig = st.plot()\n",
    "#fig.set_canvas(plt.gcf().canvas)\n",
    "#trace.plot(outfile= '/home/jovyan/AGU_2018/Examples/Figures/unfiltered.png',bbox_inches='tight')\n",
    "\n",
    "trace_filter=copy.copy(trace)\n",
    "trace_filter.filter('highpass', freq=8.0, corners=2, zerophase=True)\n",
    "trace_filter.plot(outfile ='/home/jovyan/AGU_2018/Examples/Figures/highpass.png')\n",
    "#plt.savefig(outfile='/home/jovyan/AGU_2018/Examples/Figures/highpass.png')\n",
    "\n",
    "trace_filter=copy.copy(trace)\n",
    "trace_filter.filter('lowpass', freq=1.0, corners=2, zerophase=True)\n",
    "trace_filter.plot(outfile='/home/jovyan/AGU_2018/Examples/Figures/lowpass.png')\n",
    "#savefig(outfile='/home/jovyan/AGU_2018/Examples/Figures/lowpass.png')\n",
    "\n"
   ]
  },
  {
   "cell_type": "code",
   "execution_count": null,
   "metadata": {},
   "outputs": [],
   "source": [
    "trace_filter=copy.copy(trace)\n",
    "trace_filter.filter('bandpass', freqmin=1.0, freqmax=8.0,corners=3, zerophase=True)\n",
    "trace_filter.plot(outfile='/home/jovyan/AGU_2018/Examples/Figures/bandpass.png')\n",
    "\n",
    "trace_filter=copy.copy(trace)\n",
    "trace_filter.filter('highpass', freq=8.0, corners=2, zerophase=True)\n",
    "trace_filter.plot()\n",
    "\n",
    "trace_filter=copy.copy(trace)\n",
    "trace_filter.filter('lowpass', freq=1.0, corners=2, zerophase=True)\n",
    "trace_filter.plot()"
   ]
  },
  {
   "cell_type": "markdown",
   "metadata": {},
   "source": [
    "## Spectrograms"
   ]
  },
  {
   "cell_type": "code",
   "execution_count": null,
   "metadata": {},
   "outputs": [],
   "source": [
    "starttime = UTCDateTime(\"1999-09-30T16:35:00\")\n",
    "duration = 1800\n",
    "\n",
    "st = client.get_waveforms(network='II',station='NNA',location=\"*\",channel='B*Z',\n",
    "                                starttime=starttime,\n",
    "                                endtime=starttime+duration)\n",
    "\n",
    "st.merge()\n",
    "trace=st[0]\n",
    "\n",
    "trace_filter=copy.copy(trace)\n",
    "trace_filter.filter('bandpass', freqmin=1.0, freqmax=8,corners=3, zerophase=True)\n",
    "\n",
    "trace_filter.plot()\n",
    "\n",
    "#fig,ax=plt.subplots()\n",
    "\n",
    "cmap= matplotlib.cm.get_cmap('jet')\n",
    "\n",
    "trace_filter.spectrogram(cmap=cmap,wlen=20,per_lap=0.9)\n"
   ]
  },
  {
   "cell_type": "code",
   "execution_count": null,
   "metadata": {},
   "outputs": [],
   "source": []
  },
  {
   "cell_type": "markdown",
   "metadata": {},
   "source": [
    "# References\n",
    "https://github.com/ChrisBail\n"
   ]
  }
 ],
 "metadata": {
  "kernelspec": {
   "display_name": "Python 3",
   "language": "python",
   "name": "python3"
  },
  "language_info": {
   "codemirror_mode": {
    "name": "ipython",
    "version": 3
   },
   "file_extension": ".py",
   "mimetype": "text/x-python",
   "name": "python",
   "nbconvert_exporter": "python",
   "pygments_lexer": "ipython3",
   "version": "3.6.6"
  }
 },
 "nbformat": 4,
 "nbformat_minor": 2
}
